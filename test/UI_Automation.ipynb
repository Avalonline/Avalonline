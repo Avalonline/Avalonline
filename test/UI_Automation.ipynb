{
 "cells": [
  {
   "cell_type": "code",
   "execution_count": 1,
   "metadata": {},
   "outputs": [],
   "source": [
    "from selenium import webdriver\n",
    "from selenium.webdriver.common.by import By\n",
    "from selenium.webdriver.support.ui import WebDriverWait\n",
    "from selenium.webdriver.support import expected_conditions as EC\n",
    "import os"
   ]
  },
  {
   "cell_type": "code",
   "execution_count": 2,
   "metadata": {},
   "outputs": [],
   "source": [
    "options = webdriver.ChromeOptions() \n",
    "# options.add_argument(\"start-maximized\")\n",
    "options.add_argument('disable-infobars')\n",
    "\n",
    "chromeDriverPath = os.getcwd() + '\\chromedriver.exe'\n",
    "# print(chromeDriverPath)"
   ]
  },
  {
   "cell_type": "code",
   "execution_count": 28,
   "metadata": {},
   "outputs": [
    {
     "name": "stdout",
     "output_type": "stream",
     "text": [
      "853259\n"
     ]
    }
   ],
   "source": [
    "#tab array\n",
    "tabs = []\n",
    "\n",
    "#create game\n",
    "driver = webdriver.Chrome(options=options, executable_path=chromeDriverPath)\n",
    "driver.get(\"http://localhost:8080\")\n",
    "firstTab = driver.current_window_handle\n",
    "tabs.append(firstTab)\n",
    "\n",
    "WebDriverWait(driver, 5).until(EC.presence_of_element_located((By.ID,'create-room-btn'))).click() #wait in seconds\n",
    "WebDriverWait(driver, 2).until(EC.presence_of_element_located((By.ID,'create-room-btn'))).click()\n",
    "\n",
    "roomCode = WebDriverWait(driver, 5).until(EC.presence_of_element_located((By.ID,'roomCode'))).text\n",
    "print(roomCode)\n",
    "\n",
    "#join game 4 times\n",
    "for i in range(1,5): #1-4\n",
    "    driver.execute_script(\"window.open('http://localhost:8080')\")\n",
    "    WebDriverWait(driver, 2).until(EC.number_of_windows_to_be(i+1)) #wait in seconds\n",
    "    windows_after = driver.window_handles\n",
    "    new_window = [x for x in windows_after if x != firstTab][i-1]\n",
    "    tabs.append(new_window) #add the tab to reference later\n",
    "    driver.switch_to.window(new_window)\n",
    "    \n",
    "    WebDriverWait(driver, 2).until(EC.presence_of_element_located((By.ID,'join-room-btn'))).click()\n",
    "    driver.find_element_by_id(\"inline-form-input-roomCode\").send_keys(roomCode)\n",
    "    driver.find_element_by_id(\"inline-form-input-name\").send_keys(i+1)\n",
    "    driver.find_element_by_id(\"join-room-btn\").click()\n",
    "\n",
    "#go back to host tab\n",
    "driver.switch_to.window(tabs[0])\n",
    "#start the game\n",
    "driver.find_element_by_id(\"start-game-btn\").click()"
   ]
  },
  {
   "cell_type": "code",
   "execution_count": 29,
   "metadata": {},
   "outputs": [],
   "source": [
    "#quest 1\n",
    "#first quest leader adds 2 people, confirms team\n",
    "WebDriverWait(driver, 2).until(EC.presence_of_element_located((By.ID,'add-player-1'))).click()\n",
    "driver.find_element_by_id(\"add-player-22\").click()\n",
    "driver.find_element_by_id(\"confirm-team-btn\").click()\n",
    "driver.find_element_by_id(\"accept-team-btn\").click()\n",
    "\n",
    "#other players accept team\n",
    "for i in range(1, 5):\n",
    "    driver.switch_to.window(tabs[i])\n",
    "    driver.find_element_by_id(\"accept-team-btn\").click()"
   ]
  },
  {
   "cell_type": "code",
   "execution_count": 30,
   "metadata": {},
   "outputs": [],
   "source": [
    "#team succeeds quest 1\n",
    "driver.switch_to.window(tabs[0])\n",
    "driver.find_element_by_id(\"succeed-btn\").click()\n",
    "driver.switch_to.window(tabs[1])\n",
    "driver.find_element_by_id(\"succeed-btn\").click()"
   ]
  },
  {
   "cell_type": "code",
   "execution_count": 31,
   "metadata": {},
   "outputs": [],
   "source": [
    "#quest 2\n",
    "#next quest leader adds 3 people, confirms team\n",
    "WebDriverWait(driver, 2).until(EC.presence_of_element_located((By.ID,'add-player-1'))).click()\n",
    "driver.find_element_by_id(\"add-player-22\").click()\n",
    "driver.find_element_by_id(\"add-player-23\").click()\n",
    "driver.find_element_by_id(\"confirm-team-btn\").click()\n",
    "driver.find_element_by_id(\"accept-team-btn\").click()\n",
    "\n",
    "#other players accept team\n",
    "for i in range(2, 6):\n",
    "    j = (i % len(tabs))\n",
    "    driver.switch_to.window(tabs[j])\n",
    "    driver.find_element_by_id(\"accept-team-btn\").click()"
   ]
  },
  {
   "cell_type": "code",
   "execution_count": 32,
   "metadata": {},
   "outputs": [],
   "source": [
    "#team succeeds quest 2\n",
    "driver.find_element_by_id(\"succeed-btn\").click()\n",
    "driver.switch_to.window(tabs[1])\n",
    "driver.find_element_by_id(\"succeed-btn\").click()\n",
    "driver.switch_to.window(tabs[2])\n",
    "driver.find_element_by_id(\"succeed-btn\").click()"
   ]
  },
  {
   "cell_type": "code",
   "execution_count": 22,
   "metadata": {},
   "outputs": [],
   "source": [
    "#quest 3\n",
    "#next quest leader adds 2 people, confirms team\n",
    "WebDriverWait(driver, 2).until(EC.presence_of_element_located((By.ID,'add-player-22'))).click()\n",
    "driver.find_element_by_id(\"add-player-23\").click()\n",
    "driver.find_element_by_id(\"confirm-team-btn\").click()\n",
    "driver.find_element_by_id(\"accept-team-btn\").click()\n",
    "\n",
    "#other players accept team\n",
    "for i in range(3, 7):\n",
    "    j = (i % len(tabs))\n",
    "    driver.switch_to.window(tabs[j])\n",
    "    driver.find_element_by_id(\"accept-team-btn\").click()"
   ]
  },
  {
   "cell_type": "code",
   "execution_count": 23,
   "metadata": {},
   "outputs": [],
   "source": [
    "#team succeeds quest 3\n",
    "driver.find_element_by_id(\"succeed-btn\").click()\n",
    "driver.switch_to.window(tabs[2])\n",
    "driver.find_element_by_id(\"succeed-btn\").click()"
   ]
  },
  {
   "cell_type": "code",
   "execution_count": null,
   "metadata": {},
   "outputs": [],
   "source": [
    "#move the votetrack up 4 times (game over)\n",
    "for i in range(1, 2):\n",
    "    driver.switch_to.window(tabs[i])\n",
    "    driver.find_element_by_id(\"add-player-24\").click()\n",
    "    driver.find_element_by_id(\"add-player-22\").click()\n",
    "    driver.find_element_by_id(\"confirm-team-btn\").click()\n",
    "    \n",
    "    #other players reject team\n",
    "    for i in range(1+i, 6+i):\n",
    "        j = (i % len(tabs))\n",
    "        driver.switch_to.window(tabs[j])\n",
    "        driver.find_element_by_id(\"accept-team-btn\").click()"
   ]
  },
  {
   "cell_type": "code",
   "execution_count": null,
   "metadata": {},
   "outputs": [],
   "source": []
  }
 ],
 "metadata": {
  "kernelspec": {
   "display_name": "Python 3",
   "language": "python",
   "name": "python3"
  },
  "language_info": {
   "codemirror_mode": {
    "name": "ipython",
    "version": 3
   },
   "file_extension": ".py",
   "mimetype": "text/x-python",
   "name": "python",
   "nbconvert_exporter": "python",
   "pygments_lexer": "ipython3",
   "version": "3.7.1"
  }
 },
 "nbformat": 4,
 "nbformat_minor": 2
}
