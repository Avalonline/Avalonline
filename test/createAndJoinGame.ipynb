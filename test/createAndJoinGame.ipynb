{
 "cells": [
  {
   "cell_type": "code",
   "execution_count": 28,
   "metadata": {},
   "outputs": [],
   "source": [
    "from selenium import webdriver\n",
    "from selenium.webdriver.common.by import By\n",
    "from selenium.webdriver.support.ui import WebDriverWait\n",
    "from selenium.webdriver.support import expected_conditions as EC\n",
    "import os"
   ]
  },
  {
   "cell_type": "code",
   "execution_count": 29,
   "metadata": {},
   "outputs": [],
   "source": [
    "options = webdriver.ChromeOptions() \n",
    "options.add_argument(\"start-maximized\")\n",
    "options.add_argument('disable-infobars')\n",
    "\n",
    "chromeDriverPath = os.getcwd() + '\\chromedriver.exe'\n",
    "# print(chromeDriverPath)"
   ]
  },
  {
   "cell_type": "code",
   "execution_count": null,
   "metadata": {},
   "outputs": [],
   "source": [
    "#create game\n",
    "driver = webdriver.Chrome(options=options, executable_path=chromeDriverPath)\n",
    "driver.get(\"http://localhost:8080\")\n",
    "# print(\"Initial Page Title is : %s\" %driver.title)\n",
    "firstTab  = driver.current_window_handle\n",
    "# print(\"First Window Handle is : %s\" %firstTab)\n",
    "\n",
    "driver.find_element_by_id(\"createRoom\").click()\n",
    "driver.find_element_by_id(\"createRoom\").click()\n",
    "\n",
    "roomCode = WebDriverWait(driver, 10).until(EC.presence_of_element_located((By.ID,'roomCode'))).text\n",
    "print(roomCode)"
   ]
  },
  {
   "cell_type": "code",
   "execution_count": null,
   "metadata": {},
   "outputs": [],
   "source": [
    "#join game 4 times\n",
    "for i in range(1,5): #1-4\n",
    "    driver.execute_script(\"window.open('http://localhost:8080')\")\n",
    "    WebDriverWait(driver, 10).until(EC.number_of_windows_to_be(i+1))\n",
    "    windows_after = driver.window_handles\n",
    "    new_window = [x for x in windows_after if x != firstTab][i-1]\n",
    "    driver.switch_to_window(new_window)\n",
    "    # print(\"Page Title after Tab Switching is : %s\" %driver.title)\n",
    "    # print(\"Second Window Handle is : %s\" %new_window)\n",
    "    \n",
    "    driver.find_element_by_id(\"joinRoom\").click()\n",
    "    driver.find_element_by_id(\"inline-form-input-roomCode\").send_keys(roomCode)\n",
    "    driver.find_element_by_id(\"inline-form-input-name\").send_keys(i+1)\n",
    "    driver.find_element_by_id(\"joinRoom\").click()"
   ]
  },
  {
   "cell_type": "code",
   "execution_count": null,
   "metadata": {},
   "outputs": [],
   "source": [
    "driver.switch_to_window(firstTab) #go back to host tab"
   ]
  },
  {
   "cell_type": "code",
   "execution_count": null,
   "metadata": {},
   "outputs": [],
   "source": []
  }
 ],
 "metadata": {
  "kernelspec": {
   "display_name": "Python 3",
   "language": "python",
   "name": "python3"
  },
  "language_info": {
   "codemirror_mode": {
    "name": "ipython",
    "version": 3
   },
   "file_extension": ".py",
   "mimetype": "text/x-python",
   "name": "python",
   "nbconvert_exporter": "python",
   "pygments_lexer": "ipython3",
   "version": "3.7.1"
  }
 },
 "nbformat": 4,
 "nbformat_minor": 2
}
